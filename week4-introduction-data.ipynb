{
    "nbformat_minor": 1, 
    "cells": [
        {
            "source": "# Introduction/Business Problem", 
            "cell_type": "markdown", 
            "metadata": {
                "collapsed": true
            }
        }, 
        {
            "source": "<p>We would provide recommendation about profitable locations if someone want to open a new restaurant in Toronto area.</p>\n<p>Not every place can be a good location for a restaurant. A good place is very difficult to identify and a bustling place which looks good can prove to be a dud. Often odd places have successful restaurants which everyone ignores. Apart from service and food, location of restaurant is the most important criteria for its success. \n</p>", 
            "cell_type": "markdown", 
            "metadata": {}
        }, 
        {
            "source": "### Data", 
            "cell_type": "markdown", 
            "metadata": {}
        }, 
        {
            "source": "<p>There are numerous parameters which will help us determine the most profitable location for the restaurant. </p>\n<p>1. Visibility: The restaurant should have considerable foot or vehicle traffic. If the place is not noticeable then the chances of getting regular customers gets very low. </p>\n<p>2. Nearby Parking Lot: Restaurant parking or a nearby parking lot provides convenience to the customers. Nobody will walk a considerable distance to get to the restaurant. Also, people usually don\u2019t like to walk long when they are full. </p>\n<p>3. Location: If an area is busy and gets lots of people then it will be easy to attract customers. Opening a restaurant in remote area is a gamble and may not be profitable. If an area has lots of successful business places then it can be assured that a good restaurant will be successful there.</p>\n<p>4. Neighbourhood restaurants: If the area has many similar themed restaurants or dozens of restaurants then the competitions will be fierce and it will be difficult to earn profit.</p>\n\n<p>We will use foursquare API to check the areas which has parking lots.\nWe will also look for locations which are on busy roads. We will also check using the APIs which restaurants are present in that area and if the area is crowded with restaurants and similar themed restaurants are present there. Also, we will check if there are offices, school and colleges nearby using the foursquare APIs. This will give steady customers to the restaurants. \n</p>", 
            "cell_type": "markdown", 
            "metadata": {}
        }, 
        {
            "execution_count": null, 
            "cell_type": "code", 
            "metadata": {}, 
            "outputs": [], 
            "source": ""
        }
    ], 
    "metadata": {
        "kernelspec": {
            "display_name": "Python 3.5", 
            "name": "python3", 
            "language": "python"
        }, 
        "language_info": {
            "mimetype": "text/x-python", 
            "nbconvert_exporter": "python", 
            "version": "3.5.5", 
            "name": "python", 
            "file_extension": ".py", 
            "pygments_lexer": "ipython3", 
            "codemirror_mode": {
                "version": 3, 
                "name": "ipython"
            }
        }
    }, 
    "nbformat": 4
}